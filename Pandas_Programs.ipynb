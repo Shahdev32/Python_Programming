{
 "cells": [
  {
   "cell_type": "code",
   "execution_count": 2,
   "id": "edcf6a46-2ebf-4786-b6cd-a6d3cbcbe9c5",
   "metadata": {},
   "outputs": [
    {
     "name": "stdout",
     "output_type": "stream",
     "text": [
      "    cars  passings\n",
      "0    BMW         3\n",
      "1  Volvo         7\n",
      "2   Ford         2\n"
     ]
    }
   ],
   "source": [
    "import pandas as pd\n",
    "\n",
    "mydataset = {\n",
    "    'cars': [\"BMW\", \"Volvo\", \"Ford\"],\n",
    "    'passings': [3, 7, 2]\n",
    "}\n",
    "\n",
    "myvar = pd.DataFrame(mydataset)\n",
    "\n",
    "print(myvar)\n"
   ]
  },
  {
   "cell_type": "code",
   "execution_count": 3,
   "id": "0ef3eb90-75e9-44f7-a49a-36748e7e5515",
   "metadata": {},
   "outputs": [
    {
     "name": "stdout",
     "output_type": "stream",
     "text": [
      "0    1\n",
      "1    7\n",
      "2    2\n",
      "dtype: int64\n"
     ]
    }
   ],
   "source": [
    "import pandas as pd\n",
    "\n",
    "a = [1, 7, 2]\n",
    "myvar = pd.Series(a)\n",
    "\n",
    "print(myvar)\n"
   ]
  },
  {
   "cell_type": "code",
   "execution_count": 4,
   "id": "4670b8ef-11a6-416d-8dac-deec8de089ed",
   "metadata": {},
   "outputs": [
    {
     "name": "stdout",
     "output_type": "stream",
     "text": [
      "1\n"
     ]
    }
   ],
   "source": [
    "import pandas as pd\n",
    "\n",
    "a = [1, 7, 2]\n",
    "myvar = pd.Series(a)\n",
    "print(myvar[0])\n"
   ]
  },
  {
   "cell_type": "code",
   "execution_count": 5,
   "id": "8e0fe713-89c9-47f4-bf81-6ae723ca74bf",
   "metadata": {},
   "outputs": [
    {
     "name": "stdout",
     "output_type": "stream",
     "text": [
      "x    1\n",
      "y    7\n",
      "z    2\n",
      "dtype: int64\n"
     ]
    }
   ],
   "source": [
    "import pandas as pd\n",
    "\n",
    "a = [1, 7, 2]\n",
    "myvar = pd.Series(a, index=[\"x\", \"y\", \"z\"])\n",
    "\n",
    "print(myvar)\n"
   ]
  },
  {
   "cell_type": "code",
   "execution_count": 6,
   "id": "335914b3-6920-4205-a6b8-6c47949a21bf",
   "metadata": {},
   "outputs": [
    {
     "name": "stdout",
     "output_type": "stream",
     "text": [
      "7\n"
     ]
    }
   ],
   "source": [
    "import pandas as pd\n",
    "\n",
    "a = [1, 7, 2]\n",
    "myvar = pd.Series(a, index=[\"x\", \"y\", \"z\"])\n",
    "print(myvar[\"y\"])\n"
   ]
  },
  {
   "cell_type": "code",
   "execution_count": 7,
   "id": "a827915c-44a4-44e7-b332-14c7615cc7f8",
   "metadata": {},
   "outputs": [
    {
     "name": "stdout",
     "output_type": "stream",
     "text": [
      "day1    420\n",
      "day2    380\n",
      "day3    390\n",
      "dtype: int64\n"
     ]
    }
   ],
   "source": [
    "import pandas as pd\n",
    "\n",
    "calories = {\"day1\": 420, \"day2\": 380, \"day3\": 390}\n",
    "\n",
    "myvar = pd.Series(calories)\n",
    "\n",
    "print(myvar)\n"
   ]
  },
  {
   "cell_type": "code",
   "execution_count": 8,
   "id": "58d73eb9-8dd5-4bd2-a53d-5c211be60a6b",
   "metadata": {},
   "outputs": [
    {
     "name": "stdout",
     "output_type": "stream",
     "text": [
      "day1    420\n",
      "day2    380\n",
      "dtype: int64\n"
     ]
    }
   ],
   "source": [
    "import pandas as pd\n",
    "\n",
    "calories = {\"day1\": 420, \"day2\": 380, \"day3\": 390}\n",
    "\n",
    "myvar = pd.Series(calories, index=[\"day1\", \"day2\"])\n",
    "\n",
    "print(myvar)\n"
   ]
  },
  {
   "cell_type": "code",
   "execution_count": 9,
   "id": "f39e589b-8473-432e-be9c-48950abcb839",
   "metadata": {},
   "outputs": [
    {
     "name": "stdout",
     "output_type": "stream",
     "text": [
      "   calories  duration\n",
      "0       420        50\n",
      "1       380        40\n",
      "2       390        45\n"
     ]
    }
   ],
   "source": [
    "import pandas as pd\n",
    "\n",
    "data = {\n",
    "    \"calories\": [420, 380, 390],\n",
    "    \"duration\": [50, 40, 45]\n",
    "}\n",
    "\n",
    "myvar = pd.DataFrame(data)\n",
    "\n",
    "print(myvar)\n"
   ]
  },
  {
   "cell_type": "code",
   "execution_count": 10,
   "id": "56e15499-b2bd-4809-a162-5687daa7b2d9",
   "metadata": {},
   "outputs": [
    {
     "name": "stdout",
     "output_type": "stream",
     "text": [
      "   calories  duration\n",
      "0       420        50\n",
      "1       380        40\n",
      "2       390        45\n"
     ]
    }
   ],
   "source": [
    "import pandas as pd\n",
    "\n",
    "data = {\n",
    "    \"calories\": [420, 380, 390],\n",
    "    \"duration\": [50, 40, 45]\n",
    "}\n",
    "\n",
    "# Load data into a DataFrame object:\n",
    "df = pd.DataFrame(data)\n",
    "\n",
    "print(df)\n"
   ]
  },
  {
   "cell_type": "code",
   "execution_count": 11,
   "id": "7ed4582a-47be-4fab-94ad-9bc7dc2e8663",
   "metadata": {},
   "outputs": [
    {
     "name": "stdout",
     "output_type": "stream",
     "text": [
      "calories    420\n",
      "duration     50\n",
      "Name: 0, dtype: int64\n"
     ]
    }
   ],
   "source": [
    "import pandas as pd\n",
    "\n",
    "data = {\n",
    "    \"calories\": [420, 380, 390],\n",
    "    \"duration\": [50, 40, 45]\n",
    "}\n",
    "#refer to the row index:\n",
    "print(df.loc[0])\n"
   ]
  },
  {
   "cell_type": "code",
   "execution_count": 13,
   "id": "a4fdeba1-e494-40cf-b0df-1f0f9e04ee90",
   "metadata": {},
   "outputs": [
    {
     "name": "stdout",
     "output_type": "stream",
     "text": [
      "   calories  duration\n",
      "0       420        50\n",
      "1       380        40\n"
     ]
    }
   ],
   "source": [
    "import pandas as pd\n",
    "\n",
    "data = {\n",
    "    \"calories\": [420, 380, 390],\n",
    "    \"duration\": [50, 40, 45]\n",
    "}\n",
    "\n",
    "# Load data into a DataFrame object:\n",
    "df = pd.DataFrame(data)\n",
    "\n",
    "# Use a list of indexes:\n",
    "print(df.loc[[0, 1]])\n"
   ]
  },
  {
   "cell_type": "code",
   "execution_count": 14,
   "id": "5a47cf29-8e1c-414b-8354-9ee86c5590eb",
   "metadata": {},
   "outputs": [
    {
     "name": "stdout",
     "output_type": "stream",
     "text": [
      "      calories  duration\n",
      "day1       420        50\n",
      "day2       380        40\n",
      "day3       390        45\n"
     ]
    }
   ],
   "source": [
    "import pandas as pd\n",
    "\n",
    "data = {\n",
    "    \"calories\": [420, 380, 390],\n",
    "    \"duration\": [50, 40, 45]\n",
    "}\n",
    "\n",
    "# Create DataFrame with custom index values\n",
    "df = pd.DataFrame(data, index=[\"day1\", \"day2\", \"day3\"])\n",
    "\n",
    "print(df)\n"
   ]
  },
  {
   "cell_type": "code",
   "execution_count": 15,
   "id": "d5ba8f00-4609-4649-8de5-1671600d44e6",
   "metadata": {},
   "outputs": [
    {
     "name": "stdout",
     "output_type": "stream",
     "text": [
      "calories    380\n",
      "duration     40\n",
      "Name: day2, dtype: int64\n"
     ]
    }
   ],
   "source": [
    "import pandas as pd\n",
    "\n",
    "data = {\n",
    "    \"calories\": [420, 380, 390],\n",
    "    \"duration\": [50, 40, 45]\n",
    "}\n",
    "\n",
    "# Create DataFrame with custom index values\n",
    "df = pd.DataFrame(data, index=[\"day1\", \"day2\", \"day3\"])\n",
    "\n",
    "# Return \"day2\" using named index\n",
    "print(df.loc[\"day2\"])\n"
   ]
  },
  {
   "cell_type": "code",
   "execution_count": 21,
   "id": "aef5af48-fc22-4326-bcf5-655791e32df0",
   "metadata": {},
   "outputs": [
    {
     "name": "stdout",
     "output_type": "stream",
     "text": [
      "    person_ID                        name      first      last      middle  \\\n",
      "0        3130             Burks, Rosella     Rosella     Burks         NaN   \n",
      "1        3297              Avila, Damien      Damien     Avila         NaN   \n",
      "2        3547               Olsen, Robin       Robin     Olsen         NaN   \n",
      "3        1538         Moises, Edgar Estes      Edgar    Moises       Estes   \n",
      "4        2941         Brian, Heath Pruitt      Heath     Brian      Pruitt   \n",
      "5        2401         Claude, Elvin Haney      Elvin    Claude       Haney   \n",
      "6        2070             Mosley, Edmund      Edmund    Mosley         NaN   \n",
      "7        2561        Derek, Antoine Mccoy    Antoine     Derek       Mccoy   \n",
      "8        1625            Hawkins, Callie      Callie   Hawkins         NaN   \n",
      "9        1307               Pate, Andrea      Andrea      Pate         NaN   \n",
      "10       2342                Austin, Liz         Liz    Austin         NaN   \n",
      "11       2755       Kendrick, Reba Alford       Reba  Kendrick      Alford   \n",
      "12       4150             Sims, Angelina    Angelina      Sims         NaN   \n",
      "13       3544          Mullins, Kimberly    Kimberly   Mullins         NaN   \n",
      "14       2096          Chuck, Lloyd Haney      Lloyd     Chuck       Haney   \n",
      "15       1089             Payne, Ladonna     Ladonna     Payne         NaN   \n",
      "16       2948  Baxter, Johnathan Browning  Johnathan    Baxter    Browning   \n",
      "17       4539             Weiss, Gilbert     Gilbert     Weiss         NaN   \n",
      "18       2811   Deirdre, Florence Barrera   Florence   Deirdre     Barrera   \n",
      "19       4580     Fernando, Toby Calderon       Toby  Fernando    Calderon   \n",
      "20       2895          Garrison, Patrica     Patrica  Garrison         NaN   \n",
      "21       2254         Effie, Leila Vinson      Leila     Effie      Vinson   \n",
      "22       2389              Buckley, Rose        Rose   Buckley         NaN   \n",
      "23       1699            Stanton, Kathie      Kathie   Stanton         NaN   \n",
      "24       1567             Banks, Shannon     Shannon     Banks         NaN   \n",
      "25       3066               Barnes, Cleo        Cleo    Barnes         NaN   \n",
      "26       2426              Brady, Nellie      Nellie     Brady         NaN   \n",
      "27       2217        Katheryn, Ruben Holt      Ruben  Katheryn        Holt   \n",
      "28       1968            Michael, Dianne      Dianne   Michael         NaN   \n",
      "29       3012                Grant, Adam        Adam     Grant         NaN   \n",
      "30       1824               Head, Kurtis      Kurtis      Head         NaN   \n",
      "31       3929               Berger, Jami        Jami    Berger         NaN   \n",
      "32       2682   Earline, Jaime Fitzgerald      Jaime   Earline  Fitzgerald   \n",
      "33       3112        Evelyn, Summer Frost     Summer    Evelyn       Frost   \n",
      "34       2303           Quentin, Sam Hyde        Sam   Quentin        Hyde   \n",
      "35       3903                Dunlap, Ann         Ann    Dunlap         NaN   \n",
      "36       3095          Shields, Rich Pena       Rich   Shields        Pena   \n",
      "37       2383               Page, Winnie      Winnie      Page         NaN   \n",
      "38       2146               Sparks, Ezra        Ezra    Sparks         NaN   \n",
      "39       3958              Kaufman, Elba        Elba   Kaufman         NaN   \n",
      "\n",
      "                 email              phone           fax                title  \n",
      "0      BurksR@univ.edu       963.555.1253  963.777.4065           Professor   \n",
      "1      AvilaD@univ.edu       963.555.1352  963.777.7914           Professor   \n",
      "2      OlsenR@univ.edu       963.555.1378  963.777.9262  Assistant Professor  \n",
      "3     MoisesE@univ.edu  963.555.2731x3565  963.777.8264            Professor  \n",
      "4      BrianH@univ.edu       963.555.2800  963.777.7249   Associate Curator   \n",
      "5     ClaudeE@univ.edu       963.555.2902  963.777.9730              Curator  \n",
      "6     MosleyE@univ.edu       963.555.2945  963.777.9285  Assistant Professor  \n",
      "7      DerekA@univ.edu       963.555.2992  963.777.5454              Curator  \n",
      "8    HawkinsC@univ.edu  963.555.3350x6480  963.777.4949            Professor  \n",
      "9       PateA@univ.edu       963.555.3723  963.777.5049            Professor  \n",
      "10    AustinL@univ.edu       963.555.4305  963.777.6143  Assistant Professor  \n",
      "11  KendrickR@univ.edu  963.555.4618x7744  963.777.4371   Associate Curator   \n",
      "12      SimsA@univ.edu       963.555.5278  963.777.4400            Professor  \n",
      "13   MullinsK@univ.edu  963.555.5471x1017  963.777.9783  Assistant Professor  \n",
      "14     ChuckL@univ.edu  963.555.5568x2652  963.777.9290  Assistant Professor  \n",
      "15     PayneL@univ.edu       963.555.5639  963.777.6469            Professor  \n",
      "16    BaxterJ@univ.edu       963.555.5902  963.777.8336   Research Professor  \n",
      "17     WeissG@univ.edu       963.555.5969  963.777.4975            Professor  \n",
      "18   DeirdreF@univ.edu       963.555.6319  963.777.9654   Associate Curator   \n",
      "19  FernandoT@univ.edu       963.555.6469  963.777.9864   Research Professor  \n",
      "20  GarrisonP@univ.edu       963.555.6760  963.777.4958   Associate Curator   \n",
      "21     EffieL@univ.edu       963.555.6824  963.777.7299  Assistant Professor  \n",
      "22   BuckleyR@univ.edu  963.555.6855x5018  963.777.5233              Curator  \n",
      "23   StantonK@univ.edu       963.555.7095  963.777.1015            Professor  \n",
      "24     BanksS@univ.edu       963.555.7198  963.777.6979            Professor  \n",
      "25    BarnesC@univ.edu  963.555.7463x7335  963.777.1583   Research Professor  \n",
      "26     BradyN@univ.edu       963.555.7569  963.777.7218              Curator  \n",
      "27  KatherynR@univ.edu       963.555.7578  963.777.3969  Assistant Professor  \n",
      "28   MichaelD@univ.edu       963.555.7592  963.777.9960  Assistant Professor  \n",
      "29     GrantA@univ.edu       963.555.7775  963.777.8115   Research Professor  \n",
      "30      HeadK@univ.edu       963.555.7882  963.777.6348            Professor  \n",
      "31    BergerJ@univ.edu       963.555.8158  963.777.5650   Research Professor  \n",
      "32   EarlineJ@univ.edu       963.555.8357  963.777.4114   Associate Curator   \n",
      "33    EvelynS@univ.edu       963.555.8895  963.777.5730           Professor   \n",
      "34   QuentinS@univ.edu       963.555.8921  963.777.2712  Assistant Professor  \n",
      "35    DunlapA@univ.edu       963.555.9067  963.777.4290  Assistant Professor  \n",
      "36   ShieldsR@univ.edu       963.555.9197  963.777.7215           Professor   \n",
      "37      PageW@univ.edu       963.555.9366  963.777.3202              Curator  \n",
      "38    SparksE@univ.edu       963.555.9390  963.777.9273  Assistant Professor  \n",
      "39   KaufmanE@univ.edu       963.555.9507  963.777.3298            Professor  \n"
     ]
    }
   ],
   "source": [
    "import pandas as pd\n",
    "\n",
    "# Read data from CSV file into DataFrame\n",
    "df = pd.read_csv('data.csv')\n",
    "\n",
    "# Print the DataFrame\n",
    "print(df)\n"
   ]
  },
  {
   "cell_type": "code",
   "execution_count": 22,
   "id": "97048e59-3f59-4ab6-8e11-60c68454de2c",
   "metadata": {},
   "outputs": [
    {
     "name": "stdout",
     "output_type": "stream",
     "text": [
      "    person_ID                        name      first      last      middle               email              phone           fax                title\n",
      "0        3130             Burks, Rosella     Rosella     Burks         NaN     BurksR@univ.edu       963.555.1253  963.777.4065           Professor \n",
      "1        3297              Avila, Damien      Damien     Avila         NaN     AvilaD@univ.edu       963.555.1352  963.777.7914           Professor \n",
      "2        3547               Olsen, Robin       Robin     Olsen         NaN     OlsenR@univ.edu       963.555.1378  963.777.9262  Assistant Professor\n",
      "3        1538         Moises, Edgar Estes      Edgar    Moises       Estes    MoisesE@univ.edu  963.555.2731x3565  963.777.8264            Professor\n",
      "4        2941         Brian, Heath Pruitt      Heath     Brian      Pruitt     BrianH@univ.edu       963.555.2800  963.777.7249   Associate Curator \n",
      "5        2401         Claude, Elvin Haney      Elvin    Claude       Haney    ClaudeE@univ.edu       963.555.2902  963.777.9730              Curator\n",
      "6        2070             Mosley, Edmund      Edmund    Mosley         NaN    MosleyE@univ.edu       963.555.2945  963.777.9285  Assistant Professor\n",
      "7        2561        Derek, Antoine Mccoy    Antoine     Derek       Mccoy     DerekA@univ.edu       963.555.2992  963.777.5454              Curator\n",
      "8        1625            Hawkins, Callie      Callie   Hawkins         NaN   HawkinsC@univ.edu  963.555.3350x6480  963.777.4949            Professor\n",
      "9        1307               Pate, Andrea      Andrea      Pate         NaN      PateA@univ.edu       963.555.3723  963.777.5049            Professor\n",
      "10       2342                Austin, Liz         Liz    Austin         NaN    AustinL@univ.edu       963.555.4305  963.777.6143  Assistant Professor\n",
      "11       2755       Kendrick, Reba Alford       Reba  Kendrick      Alford  KendrickR@univ.edu  963.555.4618x7744  963.777.4371   Associate Curator \n",
      "12       4150             Sims, Angelina    Angelina      Sims         NaN      SimsA@univ.edu       963.555.5278  963.777.4400            Professor\n",
      "13       3544          Mullins, Kimberly    Kimberly   Mullins         NaN   MullinsK@univ.edu  963.555.5471x1017  963.777.9783  Assistant Professor\n",
      "14       2096          Chuck, Lloyd Haney      Lloyd     Chuck       Haney     ChuckL@univ.edu  963.555.5568x2652  963.777.9290  Assistant Professor\n",
      "15       1089             Payne, Ladonna     Ladonna     Payne         NaN     PayneL@univ.edu       963.555.5639  963.777.6469            Professor\n",
      "16       2948  Baxter, Johnathan Browning  Johnathan    Baxter    Browning    BaxterJ@univ.edu       963.555.5902  963.777.8336   Research Professor\n",
      "17       4539             Weiss, Gilbert     Gilbert     Weiss         NaN     WeissG@univ.edu       963.555.5969  963.777.4975            Professor\n",
      "18       2811   Deirdre, Florence Barrera   Florence   Deirdre     Barrera   DeirdreF@univ.edu       963.555.6319  963.777.9654   Associate Curator \n",
      "19       4580     Fernando, Toby Calderon       Toby  Fernando    Calderon  FernandoT@univ.edu       963.555.6469  963.777.9864   Research Professor\n",
      "20       2895          Garrison, Patrica     Patrica  Garrison         NaN  GarrisonP@univ.edu       963.555.6760  963.777.4958   Associate Curator \n",
      "21       2254         Effie, Leila Vinson      Leila     Effie      Vinson     EffieL@univ.edu       963.555.6824  963.777.7299  Assistant Professor\n",
      "22       2389              Buckley, Rose        Rose   Buckley         NaN   BuckleyR@univ.edu  963.555.6855x5018  963.777.5233              Curator\n",
      "23       1699            Stanton, Kathie      Kathie   Stanton         NaN   StantonK@univ.edu       963.555.7095  963.777.1015            Professor\n",
      "24       1567             Banks, Shannon     Shannon     Banks         NaN     BanksS@univ.edu       963.555.7198  963.777.6979            Professor\n",
      "25       3066               Barnes, Cleo        Cleo    Barnes         NaN    BarnesC@univ.edu  963.555.7463x7335  963.777.1583   Research Professor\n",
      "26       2426              Brady, Nellie      Nellie     Brady         NaN     BradyN@univ.edu       963.555.7569  963.777.7218              Curator\n",
      "27       2217        Katheryn, Ruben Holt      Ruben  Katheryn        Holt  KatherynR@univ.edu       963.555.7578  963.777.3969  Assistant Professor\n",
      "28       1968            Michael, Dianne      Dianne   Michael         NaN   MichaelD@univ.edu       963.555.7592  963.777.9960  Assistant Professor\n",
      "29       3012                Grant, Adam        Adam     Grant         NaN     GrantA@univ.edu       963.555.7775  963.777.8115   Research Professor\n",
      "30       1824               Head, Kurtis      Kurtis      Head         NaN      HeadK@univ.edu       963.555.7882  963.777.6348            Professor\n",
      "31       3929               Berger, Jami        Jami    Berger         NaN    BergerJ@univ.edu       963.555.8158  963.777.5650   Research Professor\n",
      "32       2682   Earline, Jaime Fitzgerald      Jaime   Earline  Fitzgerald   EarlineJ@univ.edu       963.555.8357  963.777.4114   Associate Curator \n",
      "33       3112        Evelyn, Summer Frost     Summer    Evelyn       Frost    EvelynS@univ.edu       963.555.8895  963.777.5730           Professor \n",
      "34       2303           Quentin, Sam Hyde        Sam   Quentin        Hyde   QuentinS@univ.edu       963.555.8921  963.777.2712  Assistant Professor\n",
      "35       3903                Dunlap, Ann         Ann    Dunlap         NaN    DunlapA@univ.edu       963.555.9067  963.777.4290  Assistant Professor\n",
      "36       3095          Shields, Rich Pena       Rich   Shields        Pena   ShieldsR@univ.edu       963.555.9197  963.777.7215           Professor \n",
      "37       2383               Page, Winnie      Winnie      Page         NaN      PageW@univ.edu       963.555.9366  963.777.3202              Curator\n",
      "38       2146               Sparks, Ezra        Ezra    Sparks         NaN    SparksE@univ.edu       963.555.9390  963.777.9273  Assistant Professor\n",
      "39       3958              Kaufman, Elba        Elba   Kaufman         NaN   KaufmanE@univ.edu       963.555.9507  963.777.3298            Professor\n"
     ]
    }
   ],
   "source": [
    "import pandas as pd\n",
    "\n",
    "# Read data from CSV file into DataFrame\n",
    "df = pd.read_csv('data.csv')\n",
    "\n",
    "# Print the DataFrame\n",
    "print(df.to_string())\n"
   ]
  },
  {
   "cell_type": "code",
   "execution_count": 23,
   "id": "1ccae10a-4a5d-4bf6-b694-192125a094c5",
   "metadata": {},
   "outputs": [
    {
     "name": "stdout",
     "output_type": "stream",
     "text": [
      "60\n"
     ]
    }
   ],
   "source": [
    "import pandas as pd\n",
    "\n",
    "print(pd.options.display.max_rows)\n"
   ]
  },
  {
   "cell_type": "code",
   "execution_count": 24,
   "id": "94a2e326-66ce-4ea3-9a3d-d31e93b5a5dd",
   "metadata": {},
   "outputs": [
    {
     "name": "stdout",
     "output_type": "stream",
     "text": [
      "    person_ID                        name      first      last      middle  \\\n",
      "0        3130             Burks, Rosella     Rosella     Burks         NaN   \n",
      "1        3297              Avila, Damien      Damien     Avila         NaN   \n",
      "2        3547               Olsen, Robin       Robin     Olsen         NaN   \n",
      "3        1538         Moises, Edgar Estes      Edgar    Moises       Estes   \n",
      "4        2941         Brian, Heath Pruitt      Heath     Brian      Pruitt   \n",
      "5        2401         Claude, Elvin Haney      Elvin    Claude       Haney   \n",
      "6        2070             Mosley, Edmund      Edmund    Mosley         NaN   \n",
      "7        2561        Derek, Antoine Mccoy    Antoine     Derek       Mccoy   \n",
      "8        1625            Hawkins, Callie      Callie   Hawkins         NaN   \n",
      "9        1307               Pate, Andrea      Andrea      Pate         NaN   \n",
      "10       2342                Austin, Liz         Liz    Austin         NaN   \n",
      "11       2755       Kendrick, Reba Alford       Reba  Kendrick      Alford   \n",
      "12       4150             Sims, Angelina    Angelina      Sims         NaN   \n",
      "13       3544          Mullins, Kimberly    Kimberly   Mullins         NaN   \n",
      "14       2096          Chuck, Lloyd Haney      Lloyd     Chuck       Haney   \n",
      "15       1089             Payne, Ladonna     Ladonna     Payne         NaN   \n",
      "16       2948  Baxter, Johnathan Browning  Johnathan    Baxter    Browning   \n",
      "17       4539             Weiss, Gilbert     Gilbert     Weiss         NaN   \n",
      "18       2811   Deirdre, Florence Barrera   Florence   Deirdre     Barrera   \n",
      "19       4580     Fernando, Toby Calderon       Toby  Fernando    Calderon   \n",
      "20       2895          Garrison, Patrica     Patrica  Garrison         NaN   \n",
      "21       2254         Effie, Leila Vinson      Leila     Effie      Vinson   \n",
      "22       2389              Buckley, Rose        Rose   Buckley         NaN   \n",
      "23       1699            Stanton, Kathie      Kathie   Stanton         NaN   \n",
      "24       1567             Banks, Shannon     Shannon     Banks         NaN   \n",
      "25       3066               Barnes, Cleo        Cleo    Barnes         NaN   \n",
      "26       2426              Brady, Nellie      Nellie     Brady         NaN   \n",
      "27       2217        Katheryn, Ruben Holt      Ruben  Katheryn        Holt   \n",
      "28       1968            Michael, Dianne      Dianne   Michael         NaN   \n",
      "29       3012                Grant, Adam        Adam     Grant         NaN   \n",
      "30       1824               Head, Kurtis      Kurtis      Head         NaN   \n",
      "31       3929               Berger, Jami        Jami    Berger         NaN   \n",
      "32       2682   Earline, Jaime Fitzgerald      Jaime   Earline  Fitzgerald   \n",
      "33       3112        Evelyn, Summer Frost     Summer    Evelyn       Frost   \n",
      "34       2303           Quentin, Sam Hyde        Sam   Quentin        Hyde   \n",
      "35       3903                Dunlap, Ann         Ann    Dunlap         NaN   \n",
      "36       3095          Shields, Rich Pena       Rich   Shields        Pena   \n",
      "37       2383               Page, Winnie      Winnie      Page         NaN   \n",
      "38       2146               Sparks, Ezra        Ezra    Sparks         NaN   \n",
      "39       3958              Kaufman, Elba        Elba   Kaufman         NaN   \n",
      "\n",
      "                 email              phone           fax                title  \n",
      "0      BurksR@univ.edu       963.555.1253  963.777.4065           Professor   \n",
      "1      AvilaD@univ.edu       963.555.1352  963.777.7914           Professor   \n",
      "2      OlsenR@univ.edu       963.555.1378  963.777.9262  Assistant Professor  \n",
      "3     MoisesE@univ.edu  963.555.2731x3565  963.777.8264            Professor  \n",
      "4      BrianH@univ.edu       963.555.2800  963.777.7249   Associate Curator   \n",
      "5     ClaudeE@univ.edu       963.555.2902  963.777.9730              Curator  \n",
      "6     MosleyE@univ.edu       963.555.2945  963.777.9285  Assistant Professor  \n",
      "7      DerekA@univ.edu       963.555.2992  963.777.5454              Curator  \n",
      "8    HawkinsC@univ.edu  963.555.3350x6480  963.777.4949            Professor  \n",
      "9       PateA@univ.edu       963.555.3723  963.777.5049            Professor  \n",
      "10    AustinL@univ.edu       963.555.4305  963.777.6143  Assistant Professor  \n",
      "11  KendrickR@univ.edu  963.555.4618x7744  963.777.4371   Associate Curator   \n",
      "12      SimsA@univ.edu       963.555.5278  963.777.4400            Professor  \n",
      "13   MullinsK@univ.edu  963.555.5471x1017  963.777.9783  Assistant Professor  \n",
      "14     ChuckL@univ.edu  963.555.5568x2652  963.777.9290  Assistant Professor  \n",
      "15     PayneL@univ.edu       963.555.5639  963.777.6469            Professor  \n",
      "16    BaxterJ@univ.edu       963.555.5902  963.777.8336   Research Professor  \n",
      "17     WeissG@univ.edu       963.555.5969  963.777.4975            Professor  \n",
      "18   DeirdreF@univ.edu       963.555.6319  963.777.9654   Associate Curator   \n",
      "19  FernandoT@univ.edu       963.555.6469  963.777.9864   Research Professor  \n",
      "20  GarrisonP@univ.edu       963.555.6760  963.777.4958   Associate Curator   \n",
      "21     EffieL@univ.edu       963.555.6824  963.777.7299  Assistant Professor  \n",
      "22   BuckleyR@univ.edu  963.555.6855x5018  963.777.5233              Curator  \n",
      "23   StantonK@univ.edu       963.555.7095  963.777.1015            Professor  \n",
      "24     BanksS@univ.edu       963.555.7198  963.777.6979            Professor  \n",
      "25    BarnesC@univ.edu  963.555.7463x7335  963.777.1583   Research Professor  \n",
      "26     BradyN@univ.edu       963.555.7569  963.777.7218              Curator  \n",
      "27  KatherynR@univ.edu       963.555.7578  963.777.3969  Assistant Professor  \n",
      "28   MichaelD@univ.edu       963.555.7592  963.777.9960  Assistant Professor  \n",
      "29     GrantA@univ.edu       963.555.7775  963.777.8115   Research Professor  \n",
      "30      HeadK@univ.edu       963.555.7882  963.777.6348            Professor  \n",
      "31    BergerJ@univ.edu       963.555.8158  963.777.5650   Research Professor  \n",
      "32   EarlineJ@univ.edu       963.555.8357  963.777.4114   Associate Curator   \n",
      "33    EvelynS@univ.edu       963.555.8895  963.777.5730           Professor   \n",
      "34   QuentinS@univ.edu       963.555.8921  963.777.2712  Assistant Professor  \n",
      "35    DunlapA@univ.edu       963.555.9067  963.777.4290  Assistant Professor  \n",
      "36   ShieldsR@univ.edu       963.555.9197  963.777.7215           Professor   \n",
      "37      PageW@univ.edu       963.555.9366  963.777.3202              Curator  \n",
      "38    SparksE@univ.edu       963.555.9390  963.777.9273  Assistant Professor  \n",
      "39   KaufmanE@univ.edu       963.555.9507  963.777.3298            Professor  \n"
     ]
    }
   ],
   "source": [
    "import pandas as pd\n",
    "pd.options.display.max_rows=9999\n",
    "# Read data from CSV file into DataFrame\n",
    "df = pd.read_csv('data.csv')\n",
    "\n",
    "# Print the DataFrame\n",
    "print(df)\n"
   ]
  },
  {
   "cell_type": "code",
   "execution_count": null,
   "id": "a906b5f7-5914-4655-ae84-ce4d7347acb6",
   "metadata": {},
   "outputs": [],
   "source": []
  }
 ],
 "metadata": {
  "kernelspec": {
   "display_name": "Python 3 (ipykernel)",
   "language": "python",
   "name": "python3"
  },
  "language_info": {
   "codemirror_mode": {
    "name": "ipython",
    "version": 3
   },
   "file_extension": ".py",
   "mimetype": "text/x-python",
   "name": "python",
   "nbconvert_exporter": "python",
   "pygments_lexer": "ipython3",
   "version": "3.11.0"
  }
 },
 "nbformat": 4,
 "nbformat_minor": 5
}
