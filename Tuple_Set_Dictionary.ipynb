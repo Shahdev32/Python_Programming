{
 "cells": [
  {
   "cell_type": "code",
   "execution_count": 1,
   "id": "160ed787-bd1e-47f1-94ac-3a6cf3d0d83c",
   "metadata": {},
   "outputs": [
    {
     "name": "stdout",
     "output_type": "stream",
     "text": [
      "('apple', 'banana', 'cherry')\n"
     ]
    }
   ],
   "source": [
    "thistuple = (\"apple\",\"banana\",\"cherry\")\n",
    "print(thistuple)"
   ]
  },
  {
   "cell_type": "code",
   "execution_count": 3,
   "id": "1d44c73b-d24e-4b23-9609-a0ee0c0c1b8f",
   "metadata": {},
   "outputs": [
    {
     "name": "stdout",
     "output_type": "stream",
     "text": [
      "3\n"
     ]
    }
   ],
   "source": [
    "thistuple = (\"apple\",\"banana\",\"cherry\")\n",
    "print(len(thistuple))"
   ]
  },
  {
   "cell_type": "code",
   "execution_count": 4,
   "id": "d4689f63-4de9-4c39-9a8b-7ffa440c9d7b",
   "metadata": {},
   "outputs": [
    {
     "name": "stdout",
     "output_type": "stream",
     "text": [
      "<class 'tuple'>\n"
     ]
    }
   ],
   "source": [
    "thistuple = (\"apple\",\"banana\",\"cherry\")\n",
    "print(type(thistuple))"
   ]
  },
  {
   "cell_type": "code",
   "execution_count": 5,
   "id": "f899edc6-fde7-4778-8c0d-601ba1f3326e",
   "metadata": {},
   "outputs": [
    {
     "name": "stdout",
     "output_type": "stream",
     "text": [
      "<class 'str'>\n"
     ]
    }
   ],
   "source": [
    "thistuple = (\"apple\")\n",
    "print(type(thistuple))"
   ]
  },
  {
   "cell_type": "code",
   "execution_count": null,
   "id": "7a8ba5b3-c135-4121-80c1-e7d990d91849",
   "metadata": {},
   "outputs": [],
   "source": [
    "tuple = (\"abc\",34,True,40,\"male\")\n"
   ]
  },
  {
   "cell_type": "code",
   "execution_count": 6,
   "id": "8b002e60-d8ac-454b-9b76-d96df952993c",
   "metadata": {},
   "outputs": [
    {
     "name": "stdout",
     "output_type": "stream",
     "text": [
      "banana\n"
     ]
    }
   ],
   "source": [
    "#access tuple item\n",
    "thistuple =(\"apple\",\"banana\",\"cherry\")\n",
    "print(thistuple[1])"
   ]
  },
  {
   "cell_type": "code",
   "execution_count": 7,
   "id": "6f4dd57d-8da6-4651-9677-616464a84f60",
   "metadata": {},
   "outputs": [
    {
     "name": "stdout",
     "output_type": "stream",
     "text": [
      "cherry\n"
     ]
    }
   ],
   "source": [
    "#access tuple item\n",
    "thistuple =(\"apple\",\"banana\",\"cherry\")\n",
    "print(thistuple[-1])"
   ]
  },
  {
   "cell_type": "code",
   "execution_count": 8,
   "id": "1cf19d40-f668-4445-a6a6-e8ca69d36f9f",
   "metadata": {},
   "outputs": [
    {
     "name": "stdout",
     "output_type": "stream",
     "text": [
      "('cherry', 'orange', 'kiwi')\n"
     ]
    }
   ],
   "source": [
    "#access tuple item\n",
    "thistuple =(\"apple\",\"banana\",\"cherry\",\"orange\",\"kiwi\",\"melon\",\"mango\")\n",
    "print(thistuple[2:5])"
   ]
  },
  {
   "cell_type": "code",
   "execution_count": 9,
   "id": "39970d5c-f955-46f0-b5af-cde90cbe5c2c",
   "metadata": {},
   "outputs": [
    {
     "name": "stdout",
     "output_type": "stream",
     "text": [
      "('apple', 'kiwi', 'cherry')\n"
     ]
    }
   ],
   "source": [
    "#update tuple\n",
    "x = (\"apple\",\"banana\",\"cherry\")\n",
    "y=list(x)\n",
    "y[1]=\"kiwi\"\n",
    "x=tuple(y)\n",
    "print(x)"
   ]
  },
  {
   "cell_type": "code",
   "execution_count": 16,
   "id": "9c16ad97-796d-4eb2-88b1-b640f8edeeb8",
   "metadata": {},
   "outputs": [
    {
     "name": "stdout",
     "output_type": "stream",
     "text": [
      "('apple', 'banana', 'cherry', 'orange')\n"
     ]
    }
   ],
   "source": [
    "thistuple = (\"apple\", \"banana\", \"cherry\")\n",
    "y = list(thistuple)\n",
    "y.append(\"orange\")\n",
    "thistuple = tuple(y)\n",
    "print(thistuple)\n"
   ]
  },
  {
   "cell_type": "code",
   "execution_count": 17,
   "id": "46ea11ec-978d-4fda-9275-fd09793f15ba",
   "metadata": {},
   "outputs": [
    {
     "name": "stdout",
     "output_type": "stream",
     "text": [
      "{'banana', 'apple', 'cherry'}\n"
     ]
    }
   ],
   "source": [
    "thisset = {\"apple\",\"banana\",\"cherry\"}\n",
    "print(thisset)\n"
   ]
  },
  {
   "cell_type": "code",
   "execution_count": 18,
   "id": "af9c7e72-555b-4136-9c32-ab5c783c8711",
   "metadata": {},
   "outputs": [
    {
     "name": "stdout",
     "output_type": "stream",
     "text": [
      "{'banana', 'apple', 'cherry'}\n"
     ]
    }
   ],
   "source": [
    "thisset = {\"apple\",\"banana\",\"cherry\",\"apple\"}\n",
    "print(thisset)\n"
   ]
  },
  {
   "cell_type": "code",
   "execution_count": 19,
   "id": "ae95803d-78ab-4d15-82ff-bb5c21c90b24",
   "metadata": {},
   "outputs": [],
   "source": [
    "set1 = {\"abc\",34,\"as\",True,40,\"male\"}"
   ]
  },
  {
   "cell_type": "code",
   "execution_count": 20,
   "id": "12ce41d4-cb5b-42c6-9f64-f38e2506944d",
   "metadata": {},
   "outputs": [
    {
     "name": "stdout",
     "output_type": "stream",
     "text": [
      "After adding 6 to set1: {1, 2, 3, 4, 5, 6}\n",
      "After removing 8 from set2: {4, 5, 6, 7}\n",
      "Union of set1 and set2: {1, 2, 3, 4, 5, 6, 7}\n",
      "Intersection of set1 and set2: {4, 5, 6}\n",
      "Difference of set1 and set2: {1, 2, 3}\n"
     ]
    }
   ],
   "source": [
    "# Define two sets\n",
    "set1 = {1, 2, 3, 4, 5}\n",
    "set2 = {4, 5, 6, 7, 8}\n",
    "\n",
    "# Add an element to set1\n",
    "set1.add(6)\n",
    "print(\"After adding 6 to set1:\", set1)\n",
    "\n",
    "# Remove an element from set2\n",
    "set2.remove(8)\n",
    "print(\"After removing 8 from set2:\", set2)\n",
    "\n",
    "# Union of two sets\n",
    "union_set = set1.union(set2)\n",
    "print(\"Union of set1 and set2:\", union_set)\n",
    "\n",
    "# Intersection of two sets\n",
    "intersection_set = set1.intersection(set2)\n",
    "print(\"Intersection of set1 and set2:\", intersection_set)\n",
    "\n",
    "# Difference of two sets\n",
    "difference_set = set1.difference(set2)\n",
    "print(\"Difference of set1 and set2:\", difference_set)\n"
   ]
  },
  {
   "cell_type": "code",
   "execution_count": 24,
   "id": "c0994581-3438-42b7-9394-ef49bb9b4dd8",
   "metadata": {},
   "outputs": [
    {
     "name": "stdout",
     "output_type": "stream",
     "text": [
      "After adding 6 to set1: {1, 2, 3, 4, 5, 6}\n",
      "After removing 8 from set2: {4, 5, 6, 7}\n",
      "Union of set1 and set2: {1, 2, 3, 4, 5, 6, 7}\n",
      "Intersection of set1 and set2: {4, 5, 6}\n",
      "Difference of set1 and set2: {1, 2, 3}\n",
      "After updating set1 with the difference of set1 and set2: {1, 2, 3}\n",
      "After discarding 4 from set1: {1, 2, 3}\n",
      "After updating set1 with the intersection of set1 and set2: set()\n",
      "Are set1 and set2 disjoint? True\n",
      "Is set1 a subset of set2? True\n",
      "Is set1 a superset of set2? False\n",
      "After removing 6 from set2: {4, 5, 7}\n",
      "Symmetric difference between set1 and set2: {4, 5, 7}\n",
      "After updating set1 with the symmetric difference of set1 and set2: {4, 5, 7}\n",
      "Union of set1 and set2: {4, 5, 7}\n",
      "After updating set1 with elements present in either set1 or set2 but not both: {4, 5, 7}\n"
     ]
    }
   ],
   "source": [
    "# Define two sets\n",
    "set1 = {1, 2, 3, 4, 5}\n",
    "set2 = {4, 5, 6, 7, 8}\n",
    "\n",
    "# Add an element to set1\n",
    "set1.add(6)\n",
    "print(\"After adding 6 to set1:\", set1)\n",
    "\n",
    "# Remove an element from set2\n",
    "set2.remove(8)\n",
    "print(\"After removing 8 from set2:\", set2)\n",
    "\n",
    "# Union of two sets\n",
    "union_set = set1.union(set2)\n",
    "print(\"Union of set1 and set2:\", union_set)\n",
    "\n",
    "# Intersection of two sets\n",
    "intersection_set = set1.intersection(set2)\n",
    "print(\"Intersection of set1 and set2:\", intersection_set)\n",
    "\n",
    "# Difference of two sets\n",
    "difference_set = set1.difference(set2)\n",
    "print(\"Difference of set1 and set2:\", difference_set)\n",
    "\n",
    "# Update set1 with the difference of set1 and set2\n",
    "set1.difference_update(set2)\n",
    "print(\"After updating set1 with the difference of set1 and set2:\", set1)\n",
    "\n",
    "# Discard an element from set1\n",
    "set1.discard(4)\n",
    "print(\"After discarding 4 from set1:\", set1)\n",
    "\n",
    "# Intersection update: Update set1 with the intersection of set1 and set2\n",
    "set1.intersection_update(set2)\n",
    "print(\"After updating set1 with the intersection of set1 and set2:\", set1)\n",
    "\n",
    "# Check if sets are disjoint\n",
    "disjoint_check = set1.isdisjoint(set2)\n",
    "print(\"Are set1 and set2 disjoint?\", disjoint_check)\n",
    "\n",
    "# Check if set1 is a subset of set2\n",
    "subset_check = set1.issubset(set2)\n",
    "print(\"Is set1 a subset of set2?\", subset_check)\n",
    "\n",
    "# Check if set1 is a superset of set2\n",
    "superset_check = set1.issuperset(set2)\n",
    "print(\"Is set1 a superset of set2?\", superset_check)\n",
    "\n",
    "\n",
    "# Remove an element from set2\n",
    "set2.remove(6)\n",
    "print(\"After removing 6 from set2:\", set2)\n",
    "\n",
    "# Calculate symmetric difference between set1 and set2\n",
    "symmetric_difference_set = set1.symmetric_difference(set2)\n",
    "print(\"Symmetric difference between set1 and set2:\", symmetric_difference_set)\n",
    "\n",
    "# Update set1 with the symmetric difference of set1 and set2\n",
    "set1.symmetric_difference_update(set2)\n",
    "print(\"After updating set1 with the symmetric difference of set1 and set2:\", set1)\n",
    "\n",
    "# Create a new set with elements present in either set1 or set2 but not both\n",
    "union_set = set1.union(set2)\n",
    "print(\"Union of set1 and set2:\", union_set)\n",
    "\n",
    "# Update set1 with elements present in either set1 or set2 but not both\n",
    "set1.update(set2)\n",
    "print(\"After updating set1 with elements present in either set1 or set2 but not both:\", set1)\n"
   ]
  },
  {
   "cell_type": "code",
   "execution_count": 25,
   "id": "1473133e-92a3-40a5-b8cf-6c4a30fe30ad",
   "metadata": {},
   "outputs": [
    {
     "name": "stdout",
     "output_type": "stream",
     "text": [
      "{'brand': 'Ford', 'model': 'Mustang', 'year': 1964}\n"
     ]
    }
   ],
   "source": [
    "thisdict = {\n",
    "    \"brand\": \"Ford\",\n",
    "    \"model\": \"Mustang\",\n",
    "    \"year\": 1964\n",
    "}\n",
    "print(thisdict)\n"
   ]
  },
  {
   "cell_type": "code",
   "execution_count": 26,
   "id": "8863d3ee-2214-4e6c-9cec-9862071a816e",
   "metadata": {},
   "outputs": [
    {
     "name": "stdout",
     "output_type": "stream",
     "text": [
      "Ford\n"
     ]
    }
   ],
   "source": [
    "thisdict = {\n",
    "    \"brand\": \"Ford\",\n",
    "    \"model\": \"Mustang\",\n",
    "    \"year\": 1964\n",
    "}\n",
    "print(thisdict[\"brand\"])\n"
   ]
  },
  {
   "cell_type": "code",
   "execution_count": 27,
   "id": "3e9ecaa9-5f63-4676-9606-5461bfee0b53",
   "metadata": {},
   "outputs": [
    {
     "name": "stdout",
     "output_type": "stream",
     "text": [
      "{'brand': 'Ford', 'model': 'Mustang', 'year': 2020}\n"
     ]
    }
   ],
   "source": [
    "thisdict = {\n",
    "    \"brand\": \"Ford\",\n",
    "    \"model\": \"Mustang\",\n",
    "    \"year\": 1964,\n",
    "    \"year\": 2020\n",
    "}\n",
    "print(thisdict)\n"
   ]
  }
 ],
 "metadata": {
  "kernelspec": {
   "display_name": "Python 3 (ipykernel)",
   "language": "python",
   "name": "python3"
  },
  "language_info": {
   "codemirror_mode": {
    "name": "ipython",
    "version": 3
   },
   "file_extension": ".py",
   "mimetype": "text/x-python",
   "name": "python",
   "nbconvert_exporter": "python",
   "pygments_lexer": "ipython3",
   "version": "3.11.0"
  }
 },
 "nbformat": 4,
 "nbformat_minor": 5
}
